{
 "cells": [
  {
   "cell_type": "code",
   "execution_count": 1,
   "id": "d188b96e-ab73-4229-a25c-44a20e005cfa",
   "metadata": {},
   "outputs": [],
   "source": [
    "import typing as ty\n",
    "from pydantic import BaseModel, RootModel, Field\n",
    "from ipyautoui.custom.editgrid import EditGrid, UiDelete"
   ]
  },
  {
   "cell_type": "code",
   "execution_count": 2,
   "id": "fab6c20c-fa3e-4b93-8fc4-ab35dca6e905",
   "metadata": {},
   "outputs": [],
   "source": [
    "class TestDelete(UiDelete):\n",
    "    def __init__(self, *args, **kwargs):\n",
    "        super().__init__(*args, **kwargs)\n",
    "        self.message.value = (\n",
    "            \"⚠️<b>Are you sure you want to delete the following Types and Instances?</b>⚠️<br><i>Pressing the DELETE button will\"\n",
    "            \" permanently delete the selected Types and Instances!</i>\"\n",
    "        )"
   ]
  },
  {
   "cell_type": "code",
   "execution_count": 3,
   "id": "c9099a68-9bef-4d2e-8461-a9a2ff128e2c",
   "metadata": {},
   "outputs": [
    {
     "data": {
      "application/vnd.jupyter.widget-view+json": {
       "model_id": "9c8f15ddadf740928010c89022c5a86c",
       "version_major": 2,
       "version_minor": 0
      },
      "text/plain": [
       "EditGrid(children=(HBox(children=(HTML(value='<b>The Wonderful Edit Grid Application</b>'), HTML(value=''), HT…"
      ]
     },
     "metadata": {},
     "output_type": "display_data"
    }
   ],
   "source": [
    "class DataFrameCols(BaseModel):\n",
    "    string: str = Field(\n",
    "        \"string\", json_schema_extra=dict(column_width=400, section=\"a\")\n",
    "    )\n",
    "    integer: int = Field(1, json_schema_extra=dict(column_width=80, section=\"a\"))\n",
    "    floater: float = Field(\n",
    "        None, json_schema_extra=dict(column_width=70, section=\"b\")\n",
    "    )\n",
    "\n",
    "\n",
    "class TestDataFrame(RootModel):\n",
    "    \"\"\"a description of TestDataFrame\"\"\"\n",
    "\n",
    "    root: ty.List[DataFrameCols] = Field(\n",
    "        json_schema_extra=dict(\n",
    "            format=\"dataframe\", datagrid_index_name=(\"section\", \"title\")\n",
    "        ),\n",
    "    )\n",
    "\n",
    "\n",
    "title = \"The Wonderful Edit Grid Application\"\n",
    "description = \"Useful for all editing purposes whatever they may be 👍\"\n",
    "editgrid = EditGrid(\n",
    "    schema=TestDataFrame,\n",
    "    value=[\n",
    "        {\n",
    "            \"string\": \"important string\",\n",
    "            \"integer\": 1,\n",
    "            \"floater\": 3.14,\n",
    "        },\n",
    "    ],\n",
    "    title=title,\n",
    "    description=description,\n",
    "    ui_delete_callable=TestDelete,\n",
    "    warn_on_delete=True,\n",
    ")\n",
    "display(editgrid)"
   ]
  },
  {
   "cell_type": "code",
   "execution_count": 4,
   "id": "206e641c-43b9-4951-89b8-b0494623000d",
   "metadata": {},
   "outputs": [],
   "source": [
    "class DataFrameCols(BaseModel):\n",
    "    string: str = Field(\n",
    "        \"string\", json_schema_extra=dict(column_width=400, section=\"a\")\n",
    "    )\n",
    "\n",
    "\n",
    "class TestDataFrame(RootModel):\n",
    "    \"\"\"a description of TestDataFrame\"\"\"\n",
    "\n",
    "    root: ty.List[DataFrameCols] = Field(\n",
    "        json_schema_extra=dict(\n",
    "            format=\"dataframe\", datagrid_index_name=(\"section\", \"title\")\n",
    "        ),\n",
    "    )\n",
    "editgrid.update_from_schema(TestDataFrame, value=[{\"string\": \"Test\"}]*10)"
   ]
  },
  {
   "cell_type": "code",
   "execution_count": null,
   "id": "e2433a6d-2108-45c5-8a98-e0bd8138341e",
   "metadata": {},
   "outputs": [],
   "source": []
  }
 ],
 "metadata": {
  "kernelspec": {
   "display_name": "Python 3 (ipykernel)",
   "language": "python",
   "name": "python3"
  },
  "language_info": {
   "codemirror_mode": {
    "name": "ipython",
    "version": 3
   },
   "file_extension": ".py",
   "mimetype": "text/x-python",
   "name": "python",
   "nbconvert_exporter": "python",
   "pygments_lexer": "ipython3",
   "version": "3.11.9"
  }
 },
 "nbformat": 4,
 "nbformat_minor": 5
}
