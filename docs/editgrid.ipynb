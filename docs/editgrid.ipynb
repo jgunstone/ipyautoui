{
 "cells": [
  {
   "cell_type": "markdown",
   "id": "6e8a319c-087b-435e-8cbd-1f4e593b728b",
   "metadata": {},
   "source": [
    "# Edit Grid"
   ]
  },
  {
   "cell_type": "code",
   "execution_count": 1,
   "id": "d033ad47-b6b3-46b1-84ef-8a7a9c40fe18",
   "metadata": {
    "editable": true,
    "slideshow": {
     "slide_type": ""
    },
    "tags": [
     "remove-cell"
    ]
   },
   "outputs": [],
   "source": [
    "%run __init__.py"
   ]
  },
  {
   "cell_type": "code",
   "execution_count": 17,
   "id": "dcd2cbe9-ec3e-47d2-b41c-391b606cdf42",
   "metadata": {
    "editable": true,
    "slideshow": {
     "slide_type": ""
    },
    "tags": []
   },
   "outputs": [],
   "source": [
    "import typing as ty\n",
    "from pydantic import BaseModel, Field, RootModel\n",
    "from ipyautoui import AutoUi\n",
    "\n",
    "\n",
    "class DataFrameCols(BaseModel):\n",
    "    string: str = Field(\"string\", aui_column_width=100)\n",
    "    integer: int = Field(1, aui_column_width=80)\n",
    "    floater: float = Field(3.1415, aui_column_width=70, global_decimal_places=3)\n",
    "    something_else: float = Field(324, aui_column_width=100)\n",
    "\n",
    "\n",
    "class TestDataFrame(BaseModel):\n",
    "    \"\"\"a description of TestDataFrame\"\"\"\n",
    "    a: str\n",
    "    df: ty.List[DataFrameCols] = Field([DataFrameCols().model_dump(mode=\"json\")], format=\"dataframe\")\n",
    "       "
   ]
  },
  {
   "cell_type": "code",
   "execution_count": 18,
   "id": "880ed5c0-6c79-47e4-8f0e-1cfcd74a63f0",
   "metadata": {
    "editable": true,
    "slideshow": {
     "slide_type": ""
    },
    "tags": []
   },
   "outputs": [
    {
     "data": {
      "application/vnd.jupyter.widget-view+json": {
       "model_id": "7f90a5e043a246ee982528cf231f3125",
       "version_major": 2,
       "version_minor": 0
      },
      "text/plain": [
       "AutoUi(children=(SaveButtonBar(children=(ToggleButton(value=True, button_style='danger', disabled=True, icon='…"
      ]
     },
     "metadata": {},
     "output_type": "display_data"
    }
   ],
   "source": [
    "auto_grid = AutoUi(schema=TestDataFrame)\n",
    "display(auto_grid)"
   ]
  },
  {
   "cell_type": "code",
   "execution_count": 4,
   "id": "5c4ac8e3-0518-40cf-92e7-0a7845c6bc96",
   "metadata": {},
   "outputs": [
    {
     "data": {
      "application/vnd.jupyter.widget-view+json": {
       "model_id": "1af8afd2813a4c09aa0e3e04a5446830",
       "version_major": 2,
       "version_minor": 0
      },
      "text/plain": [
       "EditGrid(children=(HTML(value=''), CrudButtonBar(children=(ToggleButton(value=False, button_style='success', i…"
      ]
     },
     "execution_count": 4,
     "metadata": {},
     "output_type": "execute_result"
    }
   ],
   "source": [
    "from ipyautoui.custom.editgrid import EditGrid\n",
    "class TestDataFrame(RootModel):\n",
    "    \"\"\"a description of TestDataFrame\"\"\"\n",
    "\n",
    "    root: ty.List[DataFrameCols] = Field(format=\"dataframe\")\n",
    "EditGrid(schema=TestDataFrame)"
   ]
  },
  {
   "cell_type": "code",
   "execution_count": 5,
   "id": "20410d98-5451-42d6-bba7-601e15d26d72",
   "metadata": {
    "editable": true,
    "slideshow": {
     "slide_type": ""
    },
    "tags": []
   },
   "outputs": [
    {
     "name": "stderr",
     "output_type": "stream",
     "text": [
      "CRITICAL:root:no widget created for dataframe, with value [{'string': 'important string', 'integer': 1, 'floater': 3.14, 'something_else': 324}, {'string': 'update', 'integer': 4, 'floater': 3.12344, 'something_else': 123}, {'string': 'evening', 'integer': 5, 'floater': 3.14, 'something_else': 235}, {'string': 'morning', 'integer': 5, 'floater': 3.14, 'something_else': 12}, {'string': 'number', 'integer': 3, 'floater': 3.14, 'something_else': 123}]. fix this in the schema!\n"
     ]
    }
   ],
   "source": [
    "auto_grid.value = {\n",
    "    \"dataframe\": [\n",
    "        {\n",
    "            \"string\": \"important string\",\n",
    "            \"integer\": 1,\n",
    "            \"floater\": 3.14,\n",
    "            \"something_else\": 324,\n",
    "        },\n",
    "        {\"string\": \"update\", \"integer\": 4, \"floater\": 3.12344, \"something_else\": 123},\n",
    "        {\"string\": \"evening\", \"integer\": 5, \"floater\": 3.14, \"something_else\": 235},\n",
    "        {\"string\": \"morning\", \"integer\": 5, \"floater\": 3.14, \"something_else\": 12},\n",
    "        {\"string\": \"number\", \"integer\": 3, \"floater\": 3.14, \"something_else\": 123},\n",
    "    ]\n",
    "}"
   ]
  },
  {
   "cell_type": "code",
   "execution_count": null,
   "id": "3426e3da-306c-4a28-a848-a86fe7aa06e0",
   "metadata": {},
   "outputs": [],
   "source": []
  }
 ],
 "metadata": {
  "kernelspec": {
   "display_name": "Python 3 (ipykernel)",
   "language": "python",
   "name": "python3"
  },
  "language_info": {
   "codemirror_mode": {
    "name": "ipython",
    "version": 3
   },
   "file_extension": ".py",
   "mimetype": "text/x-python",
   "name": "python",
   "nbconvert_exporter": "python",
   "pygments_lexer": "ipython3",
   "version": "3.11.5"
  }
 },
 "nbformat": 4,
 "nbformat_minor": 5
}
