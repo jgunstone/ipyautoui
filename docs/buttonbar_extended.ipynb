{
 "cells": [
  {
   "cell_type": "code",
   "execution_count": 1,
   "id": "ea9dfff3-99b1-4269-a658-617f5868009e",
   "metadata": {},
   "outputs": [],
   "source": [
    "%run __init__.py"
   ]
  },
  {
   "cell_type": "code",
   "execution_count": 13,
   "id": "7be455ab-fbf6-4577-a913-adb37ccebfde",
   "metadata": {},
   "outputs": [],
   "source": [
    "import ipywidgets as w\n",
    "import traitlets as tr\n",
    "from ipyautoui.constants import IMAGE_BUTTON_KWARGS\n",
    "from ipyautoui.custom.buttonbars import CrudButtonBar, CrudOptions, CrudView"
   ]
  },
  {
   "cell_type": "code",
   "execution_count": 32,
   "id": "5c7104a4-ad43-42de-b264-a408ac7f3189",
   "metadata": {},
   "outputs": [],
   "source": [
    "EXTENDED_BUTTONBAR_CONFIG = CrudView(\n",
    "    images=CrudOptions(\n",
    "        tooltip=\"Add image\",\n",
    "        tooltip_clicked=\"Go back to table\",\n",
    "        button_style=\"info\",\n",
    "        message=\"📷 <i>Adding image</i>\",\n",
    "    ),\n",
    "    add=CrudOptions(\n",
    "        tooltip=\"Add item\",\n",
    "        tooltip_clicked=\"Go back to table\",\n",
    "        button_style=\"success\",\n",
    "        message=\"➕ <i>Adding Value</i>\",\n",
    "    ),\n",
    "    edit=CrudOptions(\n",
    "        tooltip=\"Edit item\",\n",
    "        tooltip_clicked=\"Go back to table\",\n",
    "        button_style=\"warning\",\n",
    "        message=\"✏️ <i>Editing Value</i>\",\n",
    "    ),\n",
    "    copy=CrudOptions(\n",
    "        tooltip=\"Copy item\",\n",
    "        tooltip_clicked=\"Go back to table\",\n",
    "        button_style=\"primary\",\n",
    "        message=\"📝 <i>Copying Value</i>\",\n",
    "    ),\n",
    "    delete=CrudOptions(\n",
    "        tooltip=\"Delete item\",\n",
    "        tooltip_clicked=\"Go back to table\",\n",
    "        button_style=\"danger\",\n",
    "        message=\"🗑️ <i>Deleting Value</i>\",\n",
    "    ),\n",
    ")"
   ]
  },
  {
   "cell_type": "code",
   "execution_count": 33,
   "id": "7150ceed-9f0c-469b-a0be-7409b9f3b2a1",
   "metadata": {},
   "outputs": [],
   "source": [
    "class CrudButtonBarExtended(CrudButtonBar):\n",
    "    fn_images = tr.Callable(default_value=lambda: print(\"add image\"))\n",
    "    \n",
    "    def __init__(self, **kwargs):\n",
    "        super().__init__(**kwargs)\n",
    "\n",
    "    def _post_init(self, **kwargs):\n",
    "        self.images = w.ToggleButton(**IMAGE_BUTTON_KWARGS)\n",
    "        self.images.observe(self._images, \"value\")\n",
    "        self.crud_view = EXTENDED_BUTTONBAR_CONFIG\n",
    "        self.children = [\n",
    "            self.images,\n",
    "            self.add,\n",
    "            self.edit,\n",
    "            self.copy,\n",
    "            self.delete,\n",
    "            self.reload,\n",
    "            self.message,\n",
    "        ]\n",
    "\n",
    "    def _images(self, onchange):\n",
    "        self._onclick(\"images\")"
   ]
  },
  {
   "cell_type": "code",
   "execution_count": 34,
   "id": "07ee94ee-f525-4bce-b928-6437675b6e59",
   "metadata": {},
   "outputs": [
    {
     "data": {
      "application/vnd.jupyter.widget-view+json": {
       "model_id": "191f90b824d749fc9e76d31a18abfbc2",
       "version_major": 2,
       "version_minor": 0
      },
      "text/plain": [
       "CrudButtonBarExtended(children=(ToggleButton(value=False, button_style='info', icon='image', layout=Layout(wid…"
      ]
     },
     "metadata": {},
     "output_type": "display_data"
    }
   ],
   "source": [
    "if __name__ == \"__main__\":\n",
    "    display(CrudButtonBarExtended())"
   ]
  },
  {
   "cell_type": "code",
   "execution_count": null,
   "id": "06afa3ff-9ef7-44e2-90cd-9c37f5050d4a",
   "metadata": {},
   "outputs": [],
   "source": []
  }
 ],
 "metadata": {
  "kernelspec": {
   "display_name": "Python 3 (ipykernel)",
   "language": "python",
   "name": "python3"
  },
  "language_info": {
   "codemirror_mode": {
    "name": "ipython",
    "version": 3
   },
   "file_extension": ".py",
   "mimetype": "text/x-python",
   "name": "python",
   "nbconvert_exporter": "python",
   "pygments_lexer": "ipython3",
   "version": "3.11.5"
  }
 },
 "nbformat": 4,
 "nbformat_minor": 5
}
