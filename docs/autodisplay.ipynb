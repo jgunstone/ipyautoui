{
 "cells": [
  {
   "cell_type": "markdown",
   "id": "5119f197-19da-488e-a15f-5c478f55cbef",
   "metadata": {},
   "source": [
    "# AutoDisplay"
   ]
  },
  {
   "cell_type": "markdown",
   "id": "03047eb4-67ea-4453-b08b-44296528c8f4",
   "metadata": {},
   "source": [
    "## Render a list of files"
   ]
  },
  {
   "cell_type": "code",
   "execution_count": 7,
   "id": "cd1a6c89-b5c1-4234-99e8-ad4a93036de8",
   "metadata": {},
   "outputs": [
    {
     "name": "stdout",
     "output_type": "stream",
     "text": [
      "The lab_black extension is already loaded. To reload it, use:\n",
      "  %reload_ext lab_black\n"
     ]
    }
   ],
   "source": [
    "%run __init__.py\n",
    "%load_ext lab_black"
   ]
  },
  {
   "cell_type": "code",
   "execution_count": 8,
   "id": "d1307a87-a12c-4f53-8c31-e383eca373e3",
   "metadata": {},
   "outputs": [
    {
     "data": {
      "application/vnd.jupyter.widget-view+json": {
       "model_id": "d28c96db104e4fbcb58057095dff07d9",
       "version_major": 2,
       "version_minor": 0
      },
      "text/plain": [
       "VBox(children=(VBox(children=(HBox(), HBox())), VBox(children=(DisplayObject(children=(HBox(children=(Valid(va…"
      ]
     },
     "metadata": {},
     "output_type": "display_data"
    }
   ],
   "source": [
    "from ipyautoui.test_schema import TestAutoLogic\n",
    "from ipyautoui import AutoUi, AutoDisplay\n",
    "from ipyautoui.constants import load_test_constants\n",
    "from IPython.display import display\n",
    "\n",
    "tests_constants = load_test_constants()\n",
    "DIR_FILETYPES = load_test_constants().DIR_FILETYPES\n",
    "paths = list(pathlib.Path(DIR_FILETYPES).glob(\"*.*\"))\n",
    "ad = AutoDisplay.from_paths(\n",
    "    paths, newroot=pathlib.PureWindowsPath(\"C:/\"), display_showhide=False\n",
    ")\n",
    "display(ad)"
   ]
  },
  {
   "cell_type": "markdown",
   "id": "20380660-7a99-42d1-b31a-25f0e0a87401",
   "metadata": {},
   "source": [
    "## Create a custom renderer"
   ]
  },
  {
   "cell_type": "code",
   "execution_count": 9,
   "id": "7b833bf5-5c24-4e38-8d2e-393558dde75e",
   "metadata": {},
   "outputs": [
    {
     "data": {
      "application/vnd.jupyter.widget-view+json": {
       "model_id": "f5a7194b74a142bba4c2340b8db44071",
       "version_major": 2,
       "version_minor": 0
      },
      "text/plain": [
       "VBox(children=(VBox(children=(HBox(), HBox())), VBox(children=(DisplayObject(children=(HBox(children=(Valid(va…"
      ]
     },
     "metadata": {},
     "output_type": "display_data"
    }
   ],
   "source": [
    "from ipyautoui.test_schema import TestAutoLogic\n",
    "\n",
    "user_file_renderers = AutoUi.create_autodisplay_map(\n",
    "    ext=\".aui.json\", schema=TestAutoLogic\n",
    ")\n",
    "\n",
    "test_ui = AutoDisplay.from_paths(\n",
    "    paths=[tests_constants.PATH_TEST_AUI],\n",
    "    file_renderers=user_file_renderers,\n",
    "    display_showhide=False,\n",
    ")\n",
    "\n",
    "display(test_ui)"
   ]
  },
  {
   "cell_type": "code",
   "execution_count": null,
   "id": "9d7e3a4e-b7f9-4ff6-a9de-bb10e49851a0",
   "metadata": {},
   "outputs": [],
   "source": []
  }
 ],
 "metadata": {
  "kernelspec": {
   "display_name": "Python 3 (ipykernel)",
   "language": "python",
   "name": "python3"
  },
  "language_info": {
   "codemirror_mode": {
    "name": "ipython",
    "version": 3
   },
   "file_extension": ".py",
   "mimetype": "text/x-python",
   "name": "python",
   "nbconvert_exporter": "python",
   "pygments_lexer": "ipython3",
   "version": "3.9.13"
  },
  "vscode": {
   "interpreter": {
    "hash": "8ada13db5691318db95c45469f21e1a7752ab0a7ab2e35f607cb2aeb67fe81be"
   }
  }
 },
 "nbformat": 4,
 "nbformat_minor": 5
}
