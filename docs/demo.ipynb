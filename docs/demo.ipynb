{
 "cells": [
  {
   "cell_type": "markdown",
   "id": "c4c141ea-22f2-4d5c-bf7e-c2708a0d39e3",
   "metadata": {},
   "source": [
    "# `ipyautoui` demo"
   ]
  },
  {
   "cell_type": "code",
   "execution_count": 1,
   "id": "8d15de17-8959-458f-84e5-f2d51eabc8bc",
   "metadata": {},
   "outputs": [
    {
     "data": {
      "application/vnd.jupyter.widget-view+json": {
       "model_id": "3611856c92cd4e719641f8681a316f7a",
       "version_major": 2,
       "version_minor": 0
      },
      "text/plain": [
       "DemoReel(children=(VBox(children=(HTML(value='⬇️ -- <b>Select demo pydantic model / generated AutoUi</b> -- ⬇️…"
      ]
     },
     "metadata": {},
     "output_type": "display_data"
    }
   ],
   "source": [
    "%run ../src/ipyautoui/__init__.py\n",
    "%load_ext lab_black\n",
    "\n",
    "from ipyautoui import demo\n",
    "\n",
    "demo()"
   ]
  },
  {
   "cell_type": "code",
   "execution_count": 2,
   "id": "7b3e8ba2-8580-4e55-bf07-ade428465803",
   "metadata": {},
   "outputs": [],
   "source": [
    "# from ipyautoui.demo import DemoReel\n",
    "\n",
    "# d = DemoReel()\n",
    "# d"
   ]
  },
  {
   "cell_type": "code",
   "execution_count": null,
   "id": "37723686-2080-4c53-9b2d-4acddbbe9276",
   "metadata": {},
   "outputs": [],
   "source": []
  }
 ],
 "metadata": {
  "kernelspec": {
   "display_name": "Python 3 (ipykernel)",
   "language": "python",
   "name": "python3"
  },
  "language_info": {
   "codemirror_mode": {
    "name": "ipython",
    "version": 3
   },
   "file_extension": ".py",
   "mimetype": "text/x-python",
   "name": "python",
   "nbconvert_exporter": "python",
   "pygments_lexer": "ipython3",
   "version": "3.9.13"
  },
  "vscode": {
   "interpreter": {
    "hash": "2945cf1448f5962318cd8d4564004b5e22175de685c8c5e6d8925611c08f83bc"
   }
  }
 },
 "nbformat": 4,
 "nbformat_minor": 5
}
